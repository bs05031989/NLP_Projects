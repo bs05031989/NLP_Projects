{
 "cells": [
  {
   "cell_type": "code",
   "execution_count": 1,
   "id": "breeding-specification",
   "metadata": {},
   "outputs": [
    {
     "name": "stdout",
     "output_type": "stream",
     "text": [
      "C:\\Users\\Jai Dev Dwawdi\\anaconda3\\envs\\tf-gpu\\python.exe\n"
     ]
    }
   ],
   "source": [
    "import sys\n",
    "print(sys.executable)"
   ]
  },
  {
   "cell_type": "code",
   "execution_count": 2,
   "id": "cosmetic-kinase",
   "metadata": {},
   "outputs": [],
   "source": [
    "import os"
   ]
  },
  {
   "cell_type": "code",
   "execution_count": 4,
   "id": "injured-amber",
   "metadata": {},
   "outputs": [
    {
     "name": "stdout",
     "output_type": "stream",
     "text": [
      "C:\\Users\\Jai Dev Dwawdi\n"
     ]
    }
   ],
   "source": [
    "print(os.getcwd())"
   ]
  },
  {
   "cell_type": "code",
   "execution_count": 5,
   "id": "blond-knife",
   "metadata": {},
   "outputs": [],
   "source": [
    "import cv2"
   ]
  },
  {
   "cell_type": "code",
   "execution_count": 6,
   "id": "institutional-newark",
   "metadata": {},
   "outputs": [],
   "source": [
    "import numpy as np"
   ]
  },
  {
   "cell_type": "code",
   "execution_count": 7,
   "id": "spectacular-frank",
   "metadata": {},
   "outputs": [],
   "source": [
    "import matplotlib"
   ]
  },
  {
   "cell_type": "code",
   "execution_count": 8,
   "id": "marine-realtor",
   "metadata": {},
   "outputs": [
    {
     "name": "stdout",
     "output_type": "stream",
     "text": [
      "4.5.3\n"
     ]
    }
   ],
   "source": [
    "print(cv2.__version__)"
   ]
  },
  {
   "cell_type": "code",
   "execution_count": 16,
   "id": "egyptian-economy",
   "metadata": {},
   "outputs": [],
   "source": [
    "import cv2\n",
    "input = cv2.imread(r'C:\\Users\\Jai Dev Dwawdi\\Desktop\\12.jpg')\n",
    "cv2.imshow('Bhupender Sharma', input)\n",
    "cv2.waitKey(0)\n",
    "cv2.destroyAllWindows()"
   ]
  },
  {
   "cell_type": "code",
   "execution_count": 18,
   "id": "bottom-closing",
   "metadata": {},
   "outputs": [
    {
     "name": "stdout",
     "output_type": "stream",
     "text": [
      "(655, 573, 3)\n"
     ]
    }
   ],
   "source": [
    "import numpy as np\n",
    "print (input.shape)"
   ]
  },
  {
   "cell_type": "code",
   "execution_count": 20,
   "id": "related-fantasy",
   "metadata": {},
   "outputs": [
    {
     "name": "stdout",
     "output_type": "stream",
     "text": [
      "Height of image: 655 pixels\n",
      "width of image: 573 pixels\n"
     ]
    }
   ],
   "source": [
    "print ('Height of image:', int(input.shape[0]), 'pixels')\n",
    "print ('width of image:', int(input.shape[1]), 'pixels')"
   ]
  },
  {
   "cell_type": "code",
   "execution_count": 21,
   "id": "operating-whale",
   "metadata": {},
   "outputs": [
    {
     "data": {
      "text/plain": [
       "True"
      ]
     },
     "execution_count": 21,
     "metadata": {},
     "output_type": "execute_result"
    }
   ],
   "source": [
    "cv2.imwrite('output.jpg',input)"
   ]
  },
  {
   "cell_type": "code",
   "execution_count": 22,
   "id": "metropolitan-dream",
   "metadata": {},
   "outputs": [
    {
     "data": {
      "text/plain": [
       "(655, 573, 3)"
      ]
     },
     "execution_count": 22,
     "metadata": {},
     "output_type": "execute_result"
    }
   ],
   "source": [
    "input.shape"
   ]
  },
  {
   "cell_type": "markdown",
   "id": "competitive-pearl",
   "metadata": {},
   "source": [
    "# Grayscaling\n"
   ]
  },
  {
   "cell_type": "code",
   "execution_count": 23,
   "id": "coordinate-quantum",
   "metadata": {},
   "outputs": [],
   "source": [
    "import cv2\n",
    "input = cv2.imread(r'C:\\Users\\Jai Dev Dwawdi\\Desktop\\12.jpg')\n",
    "cv2.imshow('Bhupender Sharma', input)\n",
    "cv2.waitKey()\n",
    "\n",
    "gray_image = cv2.cvtColor(input,cv2.COLOR_BGR2GRAY)\n",
    "cv2.imshow('Gray Scaled Bhupender Sharma', gray_image)\n",
    "cv2.waitKey()\n",
    "cv2.destroyAllWindows()"
   ]
  },
  {
   "cell_type": "markdown",
   "id": "outside-republican",
   "metadata": {},
   "source": [
    "Faster"
   ]
  },
  {
   "cell_type": "code",
   "execution_count": 24,
   "id": "featured-cotton",
   "metadata": {},
   "outputs": [],
   "source": [
    "import cv2\n",
    "input = cv2.imread(r'C:\\Users\\Jai Dev Dwawdi\\Desktop\\12.jpg',0)\n",
    "cv2.imshow('Gray Scaled Bhupender Sharma', input)\n",
    "cv2.waitKey()\n",
    "cv2.destroyAllWindows()"
   ]
  },
  {
   "cell_type": "markdown",
   "id": "sized-format",
   "metadata": {},
   "source": [
    "# BGR"
   ]
  },
  {
   "cell_type": "code",
   "execution_count": 29,
   "id": "authentic-overhead",
   "metadata": {},
   "outputs": [
    {
     "name": "stdout",
     "output_type": "stream",
     "text": [
      "(655, 573, 3)\n",
      "65 49 43\n"
     ]
    }
   ],
   "source": [
    "import cv2\n",
    "import numpy as np\n",
    "input = cv2.imread(r'C:\\Users\\Jai Dev Dwawdi\\Desktop\\12.jpg')\n",
    "B,G,R = input[10,50]\n",
    "print(input.shape)\n",
    "print(B,G,R)"
   ]
  },
  {
   "cell_type": "code",
   "execution_count": 27,
   "id": "municipal-mason",
   "metadata": {},
   "outputs": [
    {
     "name": "stdout",
     "output_type": "stream",
     "text": [
      "(655, 573)\n"
     ]
    }
   ],
   "source": [
    "import cv2\n",
    "import numpy as np\n",
    "gray_image = cv2.cvtColor(input,cv2.COLOR_BGR2GRAY)\n",
    "print(gray_image.shape)"
   ]
  },
  {
   "cell_type": "code",
   "execution_count": 28,
   "id": "streaming-traffic",
   "metadata": {},
   "outputs": [
    {
     "data": {
      "text/plain": [
       "113"
      ]
     },
     "execution_count": 28,
     "metadata": {},
     "output_type": "execute_result"
    }
   ],
   "source": [
    "gray_image[0,0]"
   ]
  },
  {
   "cell_type": "markdown",
   "id": "sorted-appeal",
   "metadata": {},
   "source": [
    "# HSV"
   ]
  },
  {
   "cell_type": "code",
   "execution_count": 30,
   "id": "minute-tyler",
   "metadata": {},
   "outputs": [],
   "source": [
    "import cv2\n",
    "input = cv2.imread(r'C:\\Users\\Jai Dev Dwawdi\\Desktop\\12.jpg')\n",
    "\n",
    "hsv_image = cv2.cvtColor(input,cv2.COLOR_BGR2HSV)\n",
    "cv2.imshow('HSV Bhupender Sharma', hsv_image)\n",
    "cv2.imshow('HUE Bhupender Sharma', hsv_image[:,:,0])\n",
    "cv2.imshow('SAT Bhupender Sharma', hsv_image[:,:,1])\n",
    "cv2.imshow('VAL Bhupender Sharma', hsv_image[:,:,2])\n",
    "\n",
    "cv2.waitKey()\n",
    "cv2.destroyAllWindows()"
   ]
  },
  {
   "cell_type": "markdown",
   "id": "varying-indie",
   "metadata": {},
   "source": [
    "# Individual Channels in RGB"
   ]
  },
  {
   "cell_type": "code",
   "execution_count": null,
   "id": "patient-soundtrack",
   "metadata": {},
   "outputs": [
    {
     "name": "stdout",
     "output_type": "stream",
     "text": [
      "(655, 573)\n",
      "(655, 573)\n",
      "(655, 573)\n"
     ]
    }
   ],
   "source": [
    "import cv2\n",
    "input = cv2.imread(r'C:\\Users\\Jai Dev Dwawdi\\Desktop\\12.jpg')\n",
    "B,G,R = cv2.split(input)\n",
    "\n",
    "print(B.shape)\n",
    "print(G.shape)\n",
    "print(R.shape)\n",
    "\n",
    "cv2.imshow('Red', R)\n",
    "cv2.imshow('Blue', B)\n",
    "cv2.imshow('Green', G)\n",
    "\n",
    "cv2.waitKey()\n",
    "cv2.destroyAllWindows()\n"
   ]
  },
  {
   "cell_type": "code",
   "execution_count": 1,
   "id": "featured-native",
   "metadata": {},
   "outputs": [
    {
     "name": "stdout",
     "output_type": "stream",
     "text": [
      "(655, 573)\n",
      "(655, 573)\n",
      "(655, 573)\n"
     ]
    }
   ],
   "source": [
    "import cv2\n",
    "input = cv2.imread(r'C:\\Users\\Jai Dev Dwawdi\\Desktop\\12.jpg')\n",
    "B,G,R = cv2.split(input)\n",
    "\n",
    "print(B.shape)\n",
    "print(G.shape)\n",
    "print(R.shape)\n",
    "\n",
    "cv2.imshow('Red', R)\n",
    "cv2.imshow('Blue', B)\n",
    "cv2.imshow('Green', G)\n",
    "merged = cv2.merge([B,G,R])\n",
    "cv2.imshow('merged',merged)\n",
    "\n",
    "merged = cv2.merge([B+100,G,R])\n",
    "cv2.imshow('merged with Blue Amplified',merged)\n",
    "\n",
    "cv2.waitKey()\n",
    "cv2.destroyAllWindows()"
   ]
  },
  {
   "cell_type": "code",
   "execution_count": 2,
   "id": "economic-belief",
   "metadata": {},
   "outputs": [],
   "source": [
    "import cv2\n",
    "import numpy as np\n",
    "\n",
    "input = cv2.imread(r'C:\\Users\\Jai Dev Dwawdi\\Desktop\\12.jpg')\n",
    "B,G,R = cv2.split(input)\n",
    "\n",
    "zeros = np.zeros(input.shape[:2], dtype = \"uint8\")\n",
    "\n",
    "cv2.imshow('Red', cv2.merge([zeros,zeros,R]))\n",
    "cv2.imshow('Green', cv2.merge([zeros,G,zeros]))\n",
    "cv2.imshow('Blue', cv2.merge([B,zeros,zeros]))\n",
    "\n",
    "cv2.waitKey()\n",
    "cv2.destroyAllWindows()\n",
    "\n",
    "\n"
   ]
  },
  {
   "cell_type": "code",
   "execution_count": 4,
   "id": "north-concentration",
   "metadata": {},
   "outputs": [
    {
     "data": {
      "text/plain": [
       "(655, 573, 3)"
      ]
     },
     "execution_count": 4,
     "metadata": {},
     "output_type": "execute_result"
    }
   ],
   "source": [
    "input.shape"
   ]
  },
  {
   "cell_type": "code",
   "execution_count": 5,
   "id": "executive-senegal",
   "metadata": {},
   "outputs": [
    {
     "data": {
      "text/plain": [
       "(655, 573)"
      ]
     },
     "execution_count": 5,
     "metadata": {},
     "output_type": "execute_result"
    }
   ],
   "source": [
    "input.shape[:2]"
   ]
  },
  {
   "cell_type": "markdown",
   "id": "unnecessary-savage",
   "metadata": {},
   "source": [
    "# Histogram Representation\n"
   ]
  },
  {
   "cell_type": "code",
   "execution_count": 7,
   "id": "ruled-truck",
   "metadata": {},
   "outputs": [
    {
     "data": {
      "image/png": "[encoded data removed]",
      "text/plain": [
       "<Figure size 432x288 with 1 Axes>"
      ]
     },
     "metadata": {
      "needs_background": "light"
     },
     "output_type": "display_data"
    }
   ],
   "source": [
    "import cv2\n",
    "import numpy as np\n",
    "\n",
    "from matplotlib import pyplot as plt\n",
    "\n",
    "input = cv2.imread(r'C:\\Users\\Jai Dev Dwawdi\\Desktop\\12.jpg')\n",
    "\n",
    "histogram = cv2.calcHist([input],[0],None,[256],[0,256])\n",
    "\n",
    "plt.hist(input.ravel(),256,[0,256]);plt.show()\n"
   ]
  },
  {
   "cell_type": "code",
   "execution_count": 8,
   "id": "interim-navigator",
   "metadata": {},
   "outputs": [
    {
     "data": {
      "image/png": "[encoded data removed]",
      "text/plain": [
       "<Figure size 432x288 with 1 Axes>"
      ]
     },
     "metadata": {
      "needs_background": "light"
     },
     "output_type": "display_data"
    }
   ],
   "source": [
    "color = ('b','g','r')\n",
    "\n",
    "for item, col in enumerate(color):\n",
    "    histogram2 = cv2.calcHist([input],[item],None,[256],[0,256])\n",
    "    plt.plot(histogram2, color = col)\n",
    "    plt.xlim([0,256])\n",
    "plt.show()"
   ]
  },
  {
   "cell_type": "code",
   "execution_count": null,
   "id": "given-seventh",
   "metadata": {},
   "outputs": [],
   "source": []
  }
 ],
 "metadata": {
  "kernelspec": {
   "display_name": "Python 3",
   "language": "python",
   "name": "python3"
  },
  "language_info": {
   "codemirror_mode": {
    "name": "ipython",
    "version": 3
   },
   "file_extension": ".py",
   "mimetype": "text/x-python",
   "name": "python",
   "nbconvert_exporter": "python",
   "pygments_lexer": "ipython3",
   "version": "3.8.8"
  }
 },
 "nbformat": 4,
 "nbformat_minor": 5
}
