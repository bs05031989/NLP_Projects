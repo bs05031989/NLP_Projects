{
 "cells": [
  {
   "cell_type": "markdown",
   "id": "based-robinson",
   "metadata": {},
   "source": [
    "# Transformations"
   ]
  },
  {
   "cell_type": "markdown",
   "id": "sound-metro",
   "metadata": {},
   "source": [
    "translations"
   ]
  },
  {
   "cell_type": "code",
   "execution_count": 5,
   "id": "opponent-maldives",
   "metadata": {},
   "outputs": [],
   "source": [
    "import cv2\n",
    "import numpy as np\n",
    "\n",
    "image = cv2.imread(r'C:\\Users\\Jai Dev Dwawdi\\Desktop\\12.jpg')\n",
    "height,width = image.shape[:2]\n",
    "quarter_height,quarter_width = height/4,width/4\n",
    "\n",
    "T = np.float32([[1,0,quarter_width],[0,1,quarter_height]])\n",
    "\n",
    "image_translation = cv2.warpAffine(image,T,(width,height))\n",
    "cv2.imshow('Translation',image_translation)\n",
    "cv2.waitKey()\n",
    "cv2.destroyAllWindows()"
   ]
  },
  {
   "cell_type": "markdown",
   "id": "returning-treaty",
   "metadata": {},
   "source": [
    "Rotations"
   ]
  },
  {
   "cell_type": "code",
   "execution_count": 6,
   "id": "massive-positive",
   "metadata": {},
   "outputs": [],
   "source": [
    "import cv2\n",
    "import numpy as np\n",
    "\n",
    "image = cv2.imread(r'C:\\Users\\Jai Dev Dwawdi\\Desktop\\12.jpg')\n",
    "height,width = image.shape[:2]\n",
    "rotation_matrix = cv2.getRotationMatrix2D((width/2,height/2),90,1)\n",
    "\n",
    "image_rotation = cv2.warpAffine(image,rotation_matrix,(width,height))\n",
    "cv2.imshow('image_rotation',image_rotation)\n",
    "cv2.waitKey()\n",
    "cv2.destroyAllWindows()"
   ]
  },
  {
   "cell_type": "markdown",
   "id": "received-parish",
   "metadata": {},
   "source": [
    "Transpose"
   ]
  },
  {
   "cell_type": "code",
   "execution_count": 7,
   "id": "organic-military",
   "metadata": {},
   "outputs": [],
   "source": [
    "import cv2\n",
    "import numpy as np\n",
    "\n",
    "image = cv2.imread(r'C:\\Users\\Jai Dev Dwawdi\\Desktop\\12.jpg')\n",
    "height,width = image.shape[:2]\n",
    "rotated_image = cv2.transpose(image)\n",
    "\n",
    "cv2.imshow('rotated_image',rotated_image)\n",
    "cv2.waitKey()\n",
    "cv2.destroyAllWindows()"
   ]
  },
  {
   "cell_type": "markdown",
   "id": "anonymous-husband",
   "metadata": {},
   "source": [
    "Scaling Resizing Interpolations"
   ]
  },
  {
   "cell_type": "code",
   "execution_count": 8,
   "id": "heard-diabetes",
   "metadata": {},
   "outputs": [],
   "source": [
    "import cv2\n",
    "import numpy as np\n",
    "\n",
    "image = cv2.imread(r'C:\\Users\\Jai Dev Dwawdi\\Desktop\\12.jpg')\n",
    "\n",
    "image_scaled = cv2.resize(image,None,fx=0.75,fy=1)\n",
    "cv2.imshow('Scaling-Linear_Interpolation',image_scaled)\n",
    "cv2.waitKey()\n",
    "\n",
    "image_scaled = cv2.resize(image,None,fx=2,fy=2, interpolation = cv2.INTER_CUBIC)\n",
    "cv2.imshow('Scaling-Cubic_Interpolation',image_scaled)\n",
    "cv2.waitKey()\n",
    "\n",
    "\n",
    "image_scaled = cv2.resize(image,(900,400), interpolation = cv2.INTER_AREA)\n",
    "cv2.imshow('Scaling-Skewed Size',image_scaled)\n",
    "cv2.waitKey()\n",
    "\n",
    "\n",
    "cv2.destroyAllWindows()"
   ]
  },
  {
   "cell_type": "markdown",
   "id": "average-transaction",
   "metadata": {},
   "source": [
    "Pyramiding Image"
   ]
  },
  {
   "cell_type": "code",
   "execution_count": 9,
   "id": "tribal-island",
   "metadata": {},
   "outputs": [],
   "source": [
    "import cv2\n",
    "import numpy as np\n",
    "\n",
    "image = cv2.imread(r'C:\\Users\\Jai Dev Dwawdi\\Desktop\\12.jpg')\n",
    "\n",
    "smaller = cv2.pyrDown(image)\n",
    "larger = cv2.pyrUp(smaller)\n",
    "\n",
    "\n",
    "cv2.imshow('Original',image)\n",
    "cv2.imshow('smaller',smaller)\n",
    "cv2.imshow('larger',larger)\n",
    "\n",
    "\n",
    "cv2.waitKey()\n",
    "cv2.destroyAllWindows()"
   ]
  },
  {
   "cell_type": "markdown",
   "id": "built-victor",
   "metadata": {},
   "source": [
    "cropping"
   ]
  },
  {
   "cell_type": "code",
   "execution_count": 10,
   "id": "pretty-selection",
   "metadata": {},
   "outputs": [],
   "source": [
    "import cv2\n",
    "import numpy as np\n",
    "\n",
    "image = cv2.imread(r'C:\\Users\\Jai Dev Dwawdi\\Desktop\\12.jpg')\n",
    "height,width = image.shape[:2]\n",
    "\n",
    "start_row,start_col = int(height*.25),int(width*.25)\n",
    "end_row,end_col = int(height*.75),int(width*.75)\n",
    "\n",
    "cropped = image[start_row:end_row,start_col:end_col]\n",
    "\n",
    "cv2.imshow('Original',image)\n",
    "cv2.imshow('cropped_image',cropped)\n",
    "\n",
    "cv2.waitKey()\n",
    "cv2.destroyAllWindows()"
   ]
  },
  {
   "cell_type": "markdown",
   "id": "miniature-attention",
   "metadata": {},
   "source": [
    "Arithmetic Operations"
   ]
  },
  {
   "cell_type": "code",
   "execution_count": 11,
   "id": "liquid-entity",
   "metadata": {},
   "outputs": [],
   "source": [
    "import cv2\n",
    "import numpy as np\n",
    "\n",
    "image = cv2.imread(r'C:\\Users\\Jai Dev Dwawdi\\Desktop\\12.jpg')\n",
    "\n",
    "M = np.ones(image.shape,dtype = \"uint8\")*75\n",
    "\n",
    "added = cv2.add(image,M)\n",
    "cv2.imshow('added',added)\n",
    "\n",
    "subtracted = cv2.subtract(image,M)\n",
    "cv2.imshow('subtracted',subtracted)\n",
    "\n",
    "\n",
    "cv2.waitKey()\n",
    "cv2.destroyAllWindows()"
   ]
  },
  {
   "cell_type": "markdown",
   "id": "verified-rescue",
   "metadata": {},
   "source": [
    "Bitwise operations"
   ]
  },
  {
   "cell_type": "code",
   "execution_count": 12,
   "id": "broken-graham",
   "metadata": {},
   "outputs": [],
   "source": [
    "import cv2\n",
    "import numpy as np\n",
    "\n",
    "square = np.zeros((300,300),np.uint8)\n",
    "cv2.rectangle(square,(50,50),(250,250),255,-1)\n",
    "cv2.imshow('Square',square)\n",
    "\n",
    "\n",
    "cv2.waitKey()\n",
    "cv2.destroyAllWindows()"
   ]
  },
  {
   "cell_type": "code",
   "execution_count": 13,
   "id": "auburn-intro",
   "metadata": {},
   "outputs": [],
   "source": [
    "import cv2\n",
    "import numpy as np\n",
    "\n",
    "ellipse = np.zeros((300,300),np.uint8)\n",
    "cv2.ellipse(ellipse,(150,150),(150,150),30,0,180,255,-1)\n",
    "cv2.imshow('Ellipse',ellipse)\n",
    "\n",
    "\n",
    "cv2.waitKey()\n",
    "cv2.destroyAllWindows()"
   ]
  },
  {
   "cell_type": "code",
   "execution_count": 14,
   "id": "military-radio",
   "metadata": {},
   "outputs": [],
   "source": [
    "import cv2\n",
    "import numpy as np\n",
    "\n",
    "square = np.zeros((300,300),np.uint8)\n",
    "cv2.rectangle(square,(50,50),(250,250),255,-1)\n",
    "cv2.imshow('Square',square)\n",
    "\n",
    "ellipse = np.zeros((300,300),np.uint8)\n",
    "cv2.ellipse(ellipse,(150,150),(150,150),30,0,180,255,-1)\n",
    "cv2.imshow('Ellipse',ellipse)\n",
    "\n",
    "And = cv2.bitwise_and(square,ellipse)\n",
    "cv2.imshow(\"And\",And)\n",
    "\n",
    "bitwiseOr = cv2.bitwise_or(square,ellipse)\n",
    "cv2.imshow(\"OR\",bitwiseOr)\n",
    "\n",
    "bitwiseXor = cv2.bitwise_xor(square,ellipse)\n",
    "cv2.imshow(\"XOR\",bitwiseXor)\n",
    "\n",
    "\n",
    "bitwiseNot = cv2.bitwise_not(square,ellipse)\n",
    "cv2.imshow(\"OR\",bitwiseNot)\n",
    "\n",
    "\n",
    "cv2.waitKey()\n",
    "cv2.destroyAllWindows()"
   ]
  },
  {
   "cell_type": "markdown",
   "id": "invalid-macro",
   "metadata": {},
   "source": [
    "convolutions & Blurring"
   ]
  },
  {
   "cell_type": "code",
   "execution_count": 15,
   "id": "southeast-gather",
   "metadata": {},
   "outputs": [],
   "source": [
    "import cv2\n",
    "import numpy as np\n",
    "\n",
    "image = cv2.imread(r'C:\\Users\\Jai Dev Dwawdi\\Desktop\\12.jpg')\n",
    "cv2.imshow('Original Image',image)\n",
    "\n",
    "kernel_3x3 = np.ones((3,3),np.float32)/9\n",
    "\n",
    "blurred = cv2.filter2D(image,-1, kernel_3x3)\n",
    "cv2.imshow('3x3 kernel blurring',blurred)\n",
    "\n",
    "kernel_7x7 = np.ones((7,7),np.float32)/49\n",
    "\n",
    "blurred2 = cv2.filter2D(image,-1,kernel_7x7)\n",
    "cv2.imshow('7x7 kernel blurring',blurred2)\n",
    "\n",
    "cv2.waitKey()\n",
    "cv2.destroyAllWindows()"
   ]
  },
  {
   "cell_type": "markdown",
   "id": "practical-ecology",
   "metadata": {},
   "source": [
    "Blurring Functions"
   ]
  },
  {
   "cell_type": "code",
   "execution_count": 16,
   "id": "divided-leone",
   "metadata": {},
   "outputs": [],
   "source": [
    "import cv2\n",
    "import numpy as np\n",
    "\n",
    "image = cv2.imread(r'C:\\Users\\Jai Dev Dwawdi\\Desktop\\12.jpg')\n",
    "\n",
    "blur = cv2.blur(image,(3,3))\n",
    "cv2.imshow('Averaging',blur)\n",
    "\n",
    "Gaussian = cv2.GaussianBlur(image,(7,7),0)\n",
    "cv2.imshow('Gaussian',Gaussian)\n",
    "\n",
    "median = cv2.medianBlur(image,5)\n",
    "cv2.imshow('median',median)\n",
    "\n",
    "bilateral = cv2.bilateralFilter(image,9,75,75)\n",
    "cv2.imshow('bilateral',bilateral)\n",
    "\n",
    "cv2.waitKey()\n",
    "cv2.destroyAllWindows()"
   ]
  },
  {
   "cell_type": "code",
   "execution_count": 17,
   "id": "thick-defendant",
   "metadata": {},
   "outputs": [],
   "source": [
    "import cv2\n",
    "import numpy as np\n",
    "\n",
    "image = cv2.imread(r'C:\\Users\\Jai Dev Dwawdi\\Desktop\\12.jpg')\n",
    "\n",
    "dst = cv2.fastNlMeansDenoisingColored(image,None,6,6,7,21)\n",
    "cv2.imshow('fast means denoising',dst)\n",
    "\n",
    "cv2.waitKey()\n",
    "cv2.destroyAllWindows()"
   ]
  },
  {
   "cell_type": "markdown",
   "id": "mounted-belief",
   "metadata": {},
   "source": [
    "sharpening"
   ]
  },
  {
   "cell_type": "code",
   "execution_count": 18,
   "id": "going-canberra",
   "metadata": {},
   "outputs": [],
   "source": [
    "import cv2\n",
    "import numpy as np\n",
    "\n",
    "image = cv2.imread(r'C:\\Users\\Jai Dev Dwawdi\\Desktop\\12.jpg')\n",
    "\n",
    "kernel_sharpening = np.array([[-1,-1,-1],\n",
    "                             [-1,9,-1],\n",
    "                             [-1,-1,-1]])\n",
    "sharpened = cv2.filter2D(image,-1,kernel_sharpening)\n",
    "cv2.imshow('image sharpening',sharpened)\n",
    "\n",
    "cv2.waitKey()\n",
    "cv2.destroyAllWindows()"
   ]
  },
  {
   "cell_type": "markdown",
   "id": "threatened-substitute",
   "metadata": {},
   "source": [
    "Thresholding, Binarization & Adaptive Thresholding"
   ]
  },
  {
   "cell_type": "code",
   "execution_count": 19,
   "id": "weighted-carolina",
   "metadata": {},
   "outputs": [],
   "source": [
    "import cv2\n",
    "import numpy as np\n",
    "\n",
    "image = cv2.imread(r'C:\\Users\\Jai Dev Dwawdi\\Desktop\\12.jpg')\n",
    "cv2.imshow('Original',image)\n",
    "\n",
    "ret,thres1 = cv2.threshold(image,127,255,cv2.THRESH_BINARY)\n",
    "cv2.imshow('Threshold Binary',thres1)\n",
    "\n",
    "ret,thres2 = cv2.threshold(image,127,255,cv2.THRESH_BINARY_INV)\n",
    "cv2.imshow('Threshold Binary inverse',thres2)\n",
    "\n",
    "ret,thres3 = cv2.threshold(image,127,255,cv2.THRESH_TRUNC)\n",
    "cv2.imshow('Threshold Trunc',thres3)\n",
    "\n",
    "ret,thres4 = cv2.threshold(image,127,255,cv2.THRESH_TOZERO)\n",
    "cv2.imshow('Threshold Tozero',thres4)\n",
    "\n",
    "ret,thres5 = cv2.threshold(image,127,255,cv2.THRESH_TOZERO_INV)\n",
    "cv2.imshow('Threshold Tozero Inv',thres5)\n",
    "\n",
    "\n",
    "cv2.waitKey()\n",
    "cv2.destroyAllWindows()"
   ]
  },
  {
   "cell_type": "markdown",
   "id": "virgin-saskatchewan",
   "metadata": {},
   "source": [
    "Dilation, Erosion, Opening & Closing"
   ]
  },
  {
   "cell_type": "code",
   "execution_count": 20,
   "id": "suspected-talent",
   "metadata": {},
   "outputs": [],
   "source": [
    "import cv2\n",
    "import numpy as np\n",
    "\n",
    "image = cv2.imread(r'C:\\Users\\Jai Dev Dwawdi\\Desktop\\12.jpg')\n",
    "cv2.imshow('Original',image)\n",
    "\n",
    "kernel = np.ones((5,5), np.uint8)\n",
    "\n",
    "erosion = cv2.erode(image,kernel,iterations = 1)\n",
    "cv2.imshow('erosion', erosion)\n",
    "\n",
    "dilation = cv2.dilate(image, kernel, iterations =1)\n",
    "cv2.imshow('dilation', dilation)\n",
    "\n",
    "opening = cv2.morphologyEx(image,cv2.MORPH_OPEN, kernel)\n",
    "cv2.imshow('opening', opening)\n",
    "\n",
    "cv2.waitKey()\n",
    "cv2.destroyAllWindows()\n"
   ]
  },
  {
   "cell_type": "markdown",
   "id": "capital-dairy",
   "metadata": {},
   "source": [
    "Edge Detection using image gradients & canny edge detection"
   ]
  },
  {
   "cell_type": "code",
   "execution_count": 1,
   "id": "several-roads",
   "metadata": {},
   "outputs": [],
   "source": [
    "import cv2\n",
    "import numpy as np\n",
    "\n",
    "image = cv2.imread(r'C:\\Users\\Jai Dev Dwawdi\\Desktop\\12.jpg',0)\n",
    "height,width = image.shape[:2]\n",
    "\n",
    "sobel_x = cv2.Sobel(image, cv2.CV_64F,0,1,ksize=5)\n",
    "sobel_y = cv2.Sobel(image, cv2.CV_64F,1,0,ksize=5)\n",
    "\n",
    "cv2.imshow('original',image)\n",
    "cv2.imshow('Sobel_x',sobel_x)\n",
    "cv2.imshow('Sobel_x',sobel_y)\n",
    "\n",
    "sobel_OR = cv2.bitwise_or(sobel_x,sobel_y)\n",
    "cv2.imshow('sobel_or', sobel_OR)\n",
    "\n",
    "laplacian = cv2.Laplacian(image,cv2.CV_64F)\n",
    "cv2.imshow('laplacian',laplacian)\n",
    "\n",
    "\n",
    "canny = cv2.Canny(image,20,170)\n",
    "cv2.imshow('canny',canny)\n",
    "\n",
    "\n",
    "\n",
    "cv2.waitKey()\n",
    "cv2.destroyAllWindows()\n"
   ]
  },
  {
   "cell_type": "markdown",
   "id": "educational-exploration",
   "metadata": {},
   "source": [
    "Perspective & Affine Transformation"
   ]
  },
  {
   "cell_type": "code",
   "execution_count": 2,
   "id": "confused-auction",
   "metadata": {},
   "outputs": [],
   "source": [
    "import cv2\n",
    "import numpy as np\n",
    "import matplotlib.pyplot as plt\n",
    "\n",
    "image = cv2.imread(r'C:\\Users\\Jai Dev Dwawdi\\Desktop\\12.jpg',0)\n",
    "\n",
    "cv2.imshow('original', image)\n",
    "\n",
    "points_A = np.float32([[320,15],[700,215],[85,610],[530,780]])\n",
    "\n",
    "points_B = np.float32([[0,0],[420,0],[0,594],[420,594]])\n",
    "\n",
    "M  = cv2.getPerspectiveTransform(points_A,points_B)\n",
    "\n",
    "warped = cv2.warpPerspective(image,M,(420,594))\n",
    "\n",
    "cv2.imshow('warpedperspective',warped)\n",
    "\n",
    "cv2.waitKey()\n",
    "cv2.destroyAllWindows()\n"
   ]
  },
  {
   "cell_type": "code",
   "execution_count": 4,
   "id": "common-portable",
   "metadata": {},
   "outputs": [],
   "source": [
    "import cv2\n",
    "import numpy as np\n",
    "import matplotlib.pyplot as plt\n",
    "\n",
    "image = cv2.imread(r'C:\\Users\\Jai Dev Dwawdi\\Desktop\\12.jpg')\n",
    "rows,cols,ch = image.shape\n",
    "cv2.imshow('original', image)\n",
    "\n",
    "points_A = np.float32([[320,15],[700,215],[85,610]])\n",
    "\n",
    "points_B = np.float32([[0,0],[420,0],[0,594]])\n",
    "\n",
    "M  = cv2.getAffineTransform(points_A,points_B)\n",
    "\n",
    "warped = cv2.warpAffine(image,M,(cols,rows))\n",
    "\n",
    "cv2.imshow('warpedAffine',warped)\n",
    "\n",
    "cv2.waitKey()\n",
    "cv2.destroyAllWindows()"
   ]
  },
  {
   "cell_type": "code",
   "execution_count": null,
   "id": "charming-costume",
   "metadata": {},
   "outputs": [],
   "source": []
  }
 ],
 "metadata": {
  "kernelspec": {
   "display_name": "Python 3",
   "language": "python",
   "name": "python3"
  },
  "language_info": {
   "codemirror_mode": {
    "name": "ipython",
    "version": 3
   },
   "file_extension": ".py",
   "mimetype": "text/x-python",
   "name": "python",
   "nbconvert_exporter": "python",
   "pygments_lexer": "ipython3",
   "version": "3.8.8"
  }
 },
 "nbformat": 4,
 "nbformat_minor": 5
}
