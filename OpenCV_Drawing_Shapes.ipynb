{
 "cells": [
  {
   "cell_type": "markdown",
   "id": "contrary-destination",
   "metadata": {},
   "source": [
    "# Drawing Images & Shapes"
   ]
  },
  {
   "cell_type": "code",
   "execution_count": 2,
   "id": "intimate-argentina",
   "metadata": {},
   "outputs": [],
   "source": [
    "import cv2\n",
    "import numpy as np\n",
    "\n",
    "image = np.zeros((512,512,3), np.uint8)\n",
    "\n",
    "image_bw = np.zeros((512,512), np.uint8)\n",
    "\n",
    "cv2.imshow(\"Black rectangle in color\",image)\n",
    "cv2.imshow(\"Black rectangle in B&W\",image_bw)\n",
    "\n",
    "cv2.waitKey()\n",
    "cv2.destroyAllWindows()\n"
   ]
  },
  {
   "cell_type": "markdown",
   "id": "false-recognition",
   "metadata": {},
   "source": [
    "Line over the rectangle\n"
   ]
  },
  {
   "cell_type": "code",
   "execution_count": 5,
   "id": "cross-short",
   "metadata": {},
   "outputs": [],
   "source": [
    "import cv2\n",
    "import numpy as np\n",
    "\n",
    "image = np.zeros((512,512,3), np.uint8)\n",
    "\n",
    "cv2.line(image,(0,0),(511,511),(255,127,0),5)\n",
    "cv2.imshow(\"Blue Line\", image)\n",
    "\n",
    "cv2.waitKey()\n",
    "cv2.destroyAllWindows()"
   ]
  },
  {
   "cell_type": "markdown",
   "id": "color-protocol",
   "metadata": {},
   "source": [
    "Rectangle"
   ]
  },
  {
   "cell_type": "code",
   "execution_count": 7,
   "id": "invalid-passion",
   "metadata": {},
   "outputs": [],
   "source": [
    "import cv2\n",
    "import numpy as np\n",
    "\n",
    "image = np.zeros((512,512,3), np.uint8)\n",
    "\n",
    "cv2.rectangle(image,(100,100),(300,250),(255,127,0),-1)\n",
    "cv2.imshow(\"Rectangle\", image)\n",
    "\n",
    "cv2.waitKey()\n",
    "cv2.destroyAllWindows()"
   ]
  },
  {
   "cell_type": "markdown",
   "id": "operational-universe",
   "metadata": {},
   "source": [
    "circles"
   ]
  },
  {
   "cell_type": "code",
   "execution_count": 10,
   "id": "absolute-assets",
   "metadata": {},
   "outputs": [],
   "source": [
    "import cv2\n",
    "import numpy as np\n",
    "\n",
    "image = np.zeros((1024,512,3), np.uint8)\n",
    "\n",
    "cv2.circle(image,(350,350),100,(255,127,0),-1)\n",
    "cv2.imshow(\"circle\", image)\n",
    "\n",
    "cv2.waitKey()\n",
    "cv2.destroyAllWindows()"
   ]
  },
  {
   "cell_type": "markdown",
   "id": "intended-enzyme",
   "metadata": {},
   "source": [
    "polygons"
   ]
  },
  {
   "cell_type": "code",
   "execution_count": 11,
   "id": "mathematical-prediction",
   "metadata": {},
   "outputs": [],
   "source": [
    "import cv2\n",
    "import numpy as np\n",
    "\n",
    "image = np.zeros((512,512,3), np.uint8)\n",
    "\n",
    "pts = np.array([[10,50],[400,50],[90,200],[50,500]],np.int32)\n",
    "pts = pts.reshape((-1,1,2))\n",
    "\n",
    "cv2.polylines(image,[pts],True,(0,0,255),3)\n",
    "cv2.imshow(\"polygon\", image)\n",
    "\n",
    "cv2.waitKey()\n",
    "cv2.destroyAllWindows()"
   ]
  },
  {
   "cell_type": "markdown",
   "id": "recognized-tension",
   "metadata": {},
   "source": [
    "Adding Text"
   ]
  },
  {
   "cell_type": "code",
   "execution_count": 17,
   "id": "social-channel",
   "metadata": {},
   "outputs": [],
   "source": [
    "import cv2\n",
    "import numpy as np\n",
    "\n",
    "image = np.zeros((512,1024,3), np.uint8)\n",
    "\n",
    "\n",
    "cv2.putText(image,\"Bhupender Sharma\",(75,290),cv2.FONT_HERSHEY_COMPLEX,2,(100,170,0),3)\n",
    "cv2.imshow(\"Bhupender Sharma\", image)\n",
    "\n",
    "cv2.waitKey()\n",
    "cv2.destroyAllWindows()"
   ]
  },
  {
   "cell_type": "code",
   "execution_count": null,
   "id": "weekly-municipality",
   "metadata": {},
   "outputs": [],
   "source": []
  }
 ],
 "metadata": {
  "kernelspec": {
   "display_name": "Python 3",
   "language": "python",
   "name": "python3"
  },
  "language_info": {
   "codemirror_mode": {
    "name": "ipython",
    "version": 3
   },
   "file_extension": ".py",
   "mimetype": "text/x-python",
   "name": "python",
   "nbconvert_exporter": "python",
   "pygments_lexer": "ipython3",
   "version": "3.8.8"
  }
 },
 "nbformat": 4,
 "nbformat_minor": 5
}
