{
 "cells": [
  {
   "cell_type": "markdown",
   "id": "northern-creativity",
   "metadata": {},
   "source": [
    "## Text Extraction from PDF"
   ]
  },
  {
   "cell_type": "code",
   "execution_count": 1,
   "id": "earned-leisure",
   "metadata": {},
   "outputs": [
    {
     "name": "stdout",
     "output_type": "stream",
     "text": [
      "Collecting PyPDF2\n",
      "  Using cached PyPDF2-1.26.0-py3-none-any.whl\n",
      "Installing collected packages: PyPDF2\n",
      "Successfully installed PyPDF2-1.26.0\n"
     ]
    }
   ],
   "source": [
    "!pip install PyPDF2"
   ]
  },
  {
   "cell_type": "code",
   "execution_count": 2,
   "id": "sitting-antarctica",
   "metadata": {},
   "outputs": [],
   "source": [
    "import PyPDF2 as pdf"
   ]
  },
  {
   "cell_type": "code",
   "execution_count": 15,
   "id": "classical-happiness",
   "metadata": {},
   "outputs": [],
   "source": [
    "file = open(r\"C:\\Users\\Jai Dev Dwawdi\\Desktop\\Jai-Bhairavi-Devi-Gurubhyo-Namah-Shri.pdf\",'rb')"
   ]
  },
  {
   "cell_type": "code",
   "execution_count": 16,
   "id": "romantic-tooth",
   "metadata": {},
   "outputs": [
    {
     "data": {
      "text/plain": [
       "<_io.BufferedReader name='C:\\\\Users\\\\Jai Dev Dwawdi\\\\Desktop\\\\Jai-Bhairavi-Devi-Gurubhyo-Namah-Shri.pdf'>"
      ]
     },
     "execution_count": 16,
     "metadata": {},
     "output_type": "execute_result"
    }
   ],
   "source": [
    "file"
   ]
  },
  {
   "cell_type": "code",
   "execution_count": 17,
   "id": "related-apartment",
   "metadata": {},
   "outputs": [],
   "source": [
    "pdf_reader = pdf.PdfFileReader(file)"
   ]
  },
  {
   "cell_type": "code",
   "execution_count": 18,
   "id": "naughty-concrete",
   "metadata": {},
   "outputs": [
    {
     "data": {
      "text/plain": [
       "<PyPDF2.pdf.PdfFileReader at 0x1a3bc9e64f0>"
      ]
     },
     "execution_count": 18,
     "metadata": {},
     "output_type": "execute_result"
    }
   ],
   "source": [
    "pdf_reader"
   ]
  },
  {
   "cell_type": "code",
   "execution_count": 19,
   "id": "adjacent-hunter",
   "metadata": {},
   "outputs": [
    {
     "data": {
      "text/plain": [
       "False"
      ]
     },
     "execution_count": 19,
     "metadata": {},
     "output_type": "execute_result"
    }
   ],
   "source": [
    "pdf_reader.getIsEncrypted()"
   ]
  },
  {
   "cell_type": "code",
   "execution_count": 20,
   "id": "arbitrary-creek",
   "metadata": {},
   "outputs": [
    {
     "data": {
      "text/plain": [
       "1"
      ]
     },
     "execution_count": 20,
     "metadata": {},
     "output_type": "execute_result"
    }
   ],
   "source": [
    "pdf_reader.getNumPages()"
   ]
  },
  {
   "cell_type": "code",
   "execution_count": 21,
   "id": "sitting-scratch",
   "metadata": {},
   "outputs": [],
   "source": [
    "page1 = pdf_reader.getPage(0)"
   ]
  },
  {
   "cell_type": "code",
   "execution_count": 22,
   "id": "simplified-penny",
   "metadata": {},
   "outputs": [
    {
     "data": {
      "text/plain": [
       "{'/Type': '/Page',\n",
       " '/Parent': {'/Type': '/Pages', '/Count': 1, '/Kids': [IndirectObject(3, 0)]},\n",
       " '/Resources': {'/Font': {'/F1': {'/Type': '/Font',\n",
       "    '/Subtype': '/TrueType',\n",
       "    '/Name': '/F1',\n",
       "    '/BaseFont': '/Times#20New#20Roman',\n",
       "    '/Encoding': '/WinAnsiEncoding',\n",
       "    '/FontDescriptor': {'/Type': '/FontDescriptor',\n",
       "     '/FontName': '/Times#20New#20Roman',\n",
       "     '/Flags': 32,\n",
       "     '/ItalicAngle': 0,\n",
       "     '/Ascent': 891,\n",
       "     '/Descent': -216,\n",
       "     '/CapHeight': 693,\n",
       "     '/AvgWidth': 401,\n",
       "     '/MaxWidth': 2568,\n",
       "     '/FontWeight': 400,\n",
       "     '/XHeight': 250,\n",
       "     '/Leading': 42,\n",
       "     '/StemV': 40,\n",
       "     '/FontBBox': [-568, -216, 2000, 693]},\n",
       "    '/FirstChar': 32,\n",
       "    '/LastChar': 118,\n",
       "    '/Widths': [250,\n",
       "     0,\n",
       "     0,\n",
       "     0,\n",
       "     0,\n",
       "     0,\n",
       "     0,\n",
       "     0,\n",
       "     0,\n",
       "     0,\n",
       "     0,\n",
       "     0,\n",
       "     0,\n",
       "     0,\n",
       "     0,\n",
       "     0,\n",
       "     0,\n",
       "     0,\n",
       "     0,\n",
       "     0,\n",
       "     0,\n",
       "     0,\n",
       "     0,\n",
       "     0,\n",
       "     0,\n",
       "     0,\n",
       "     0,\n",
       "     0,\n",
       "     0,\n",
       "     0,\n",
       "     0,\n",
       "     0,\n",
       "     0,\n",
       "     0,\n",
       "     667,\n",
       "     0,\n",
       "     722,\n",
       "     0,\n",
       "     0,\n",
       "     0,\n",
       "     0,\n",
       "     0,\n",
       "     389,\n",
       "     0,\n",
       "     0,\n",
       "     0,\n",
       "     722,\n",
       "     0,\n",
       "     0,\n",
       "     0,\n",
       "     0,\n",
       "     556,\n",
       "     0,\n",
       "     0,\n",
       "     0,\n",
       "     0,\n",
       "     0,\n",
       "     0,\n",
       "     0,\n",
       "     0,\n",
       "     0,\n",
       "     0,\n",
       "     0,\n",
       "     0,\n",
       "     0,\n",
       "     444,\n",
       "     0,\n",
       "     0,\n",
       "     0,\n",
       "     444,\n",
       "     0,\n",
       "     0,\n",
       "     500,\n",
       "     278,\n",
       "     0,\n",
       "     0,\n",
       "     0,\n",
       "     778,\n",
       "     0,\n",
       "     0,\n",
       "     0,\n",
       "     0,\n",
       "     333,\n",
       "     0,\n",
       "     278,\n",
       "     500,\n",
       "     500]},\n",
       "   '/F2': {'/Type': '/Font',\n",
       "    '/Subtype': '/TrueType',\n",
       "    '/Name': '/F2',\n",
       "    '/BaseFont': '/Times#20New#20Roman,Bold',\n",
       "    '/Encoding': '/WinAnsiEncoding',\n",
       "    '/FontDescriptor': {'/Type': '/FontDescriptor',\n",
       "     '/FontName': '/Times#20New#20Roman,Bold',\n",
       "     '/Flags': 32,\n",
       "     '/ItalicAngle': 0,\n",
       "     '/Ascent': 891,\n",
       "     '/Descent': -216,\n",
       "     '/CapHeight': 677,\n",
       "     '/AvgWidth': 427,\n",
       "     '/MaxWidth': 2558,\n",
       "     '/FontWeight': 700,\n",
       "     '/XHeight': 250,\n",
       "     '/Leading': 42,\n",
       "     '/StemV': 42,\n",
       "     '/FontBBox': [-558, -216, 2000, 677]},\n",
       "    '/FirstChar': 32,\n",
       "    '/LastChar': 121,\n",
       "    '/Widths': [250,\n",
       "     0,\n",
       "     0,\n",
       "     0,\n",
       "     0,\n",
       "     0,\n",
       "     0,\n",
       "     0,\n",
       "     0,\n",
       "     0,\n",
       "     0,\n",
       "     0,\n",
       "     0,\n",
       "     0,\n",
       "     0,\n",
       "     0,\n",
       "     0,\n",
       "     0,\n",
       "     0,\n",
       "     0,\n",
       "     0,\n",
       "     0,\n",
       "     0,\n",
       "     0,\n",
       "     0,\n",
       "     0,\n",
       "     0,\n",
       "     0,\n",
       "     0,\n",
       "     0,\n",
       "     0,\n",
       "     0,\n",
       "     0,\n",
       "     722,\n",
       "     667,\n",
       "     0,\n",
       "     0,\n",
       "     0,\n",
       "     0,\n",
       "     778,\n",
       "     778,\n",
       "     0,\n",
       "     500,\n",
       "     0,\n",
       "     667,\n",
       "     944,\n",
       "     0,\n",
       "     0,\n",
       "     0,\n",
       "     0,\n",
       "     722,\n",
       "     556,\n",
       "     667,\n",
       "     722,\n",
       "     722,\n",
       "     0,\n",
       "     0,\n",
       "     0,\n",
       "     0,\n",
       "     0,\n",
       "     0,\n",
       "     0,\n",
       "     0,\n",
       "     0,\n",
       "     0,\n",
       "     500,\n",
       "     556,\n",
       "     0,\n",
       "     0,\n",
       "     444,\n",
       "     0,\n",
       "     500,\n",
       "     556,\n",
       "     278,\n",
       "     0,\n",
       "     556,\n",
       "     278,\n",
       "     833,\n",
       "     556,\n",
       "     500,\n",
       "     556,\n",
       "     0,\n",
       "     444,\n",
       "     389,\n",
       "     333,\n",
       "     556,\n",
       "     500,\n",
       "     722,\n",
       "     0,\n",
       "     500]},\n",
       "   '/F3': {'/Type': '/Font',\n",
       "    '/Subtype': '/Type0',\n",
       "    '/BaseFont': '/Times#20New#20Roman,Bold',\n",
       "    '/Encoding': '/Identity-H',\n",
       "    '/DescendantFonts': [IndirectObject(11, 0)],\n",
       "    '/ToUnicode': {'/Filter': '/FlateDecode'}},\n",
       "   '/F4': {'/Type': '/Font',\n",
       "    '/Subtype': '/Type0',\n",
       "    '/BaseFont': '/Times#20New#20Roman',\n",
       "    '/Encoding': '/Identity-H',\n",
       "    '/DescendantFonts': [IndirectObject(16, 0)],\n",
       "    '/ToUnicode': {'/Filter': '/FlateDecode'}},\n",
       "   '/F5': {'/Type': '/Font',\n",
       "    '/Subtype': '/TrueType',\n",
       "    '/Name': '/F5',\n",
       "    '/BaseFont': '/ABCDEE+Calibri',\n",
       "    '/Encoding': '/WinAnsiEncoding',\n",
       "    '/FontDescriptor': {'/Type': '/FontDescriptor',\n",
       "     '/FontName': '/ABCDEE+Calibri',\n",
       "     '/Flags': 32,\n",
       "     '/ItalicAngle': 0,\n",
       "     '/Ascent': 750,\n",
       "     '/Descent': -250,\n",
       "     '/CapHeight': 750,\n",
       "     '/AvgWidth': 521,\n",
       "     '/MaxWidth': 1743,\n",
       "     '/FontWeight': 400,\n",
       "     '/XHeight': 250,\n",
       "     '/StemV': 52,\n",
       "     '/FontBBox': [-503, -250, 1240, 750],\n",
       "     '/FontFile2': {'/Filter': '/FlateDecode', '/Length1': 169476}},\n",
       "    '/FirstChar': 32,\n",
       "    '/LastChar': 32,\n",
       "    '/Widths': [226]}},\n",
       "  '/ProcSet': ['/PDF', '/Text', '/ImageB', '/ImageC', '/ImageI']},\n",
       " '/MediaBox': [0, 0, 612, 792],\n",
       " '/Contents': {'/Filter': '/FlateDecode'},\n",
       " '/Group': {'/Type': '/Group', '/S': '/Transparency', '/CS': '/DeviceRGB'},\n",
       " '/Tabs': '/S',\n",
       " '/StructParents': 0}"
      ]
     },
     "execution_count": 22,
     "metadata": {},
     "output_type": "execute_result"
    }
   ],
   "source": [
    "page1"
   ]
  },
  {
   "cell_type": "code",
   "execution_count": 23,
   "id": "marine-senior",
   "metadata": {},
   "outputs": [
    {
     "data": {
      "text/plain": [
       "'Devi Stuthi\\n \\n \\nJai Bhairavi Devi \\nGurubhyo\\n \\nNamah Shri\\n \\nJai Bhairavi Devi \\nSwayambho\\n \\nNamah Shri\\n \\nJai Bhairavi Devi \\n\\n \\nNamah Shri\\n \\nJai Bhairavi Devi \\n\\n \\nNamah Shri\\n \\nJai Bhairavi Devi \\n\\n \\nNamah Shri\\n \\nJai Bhairavi Devi \\nMaheshwari\\n \\nNamah Shri\\n \\nJai Bhairavi Devi \\n\\n \\nNamah Shri\\n \\nJai Bhairavi Devi \\nVishweshwari\\n \\nNamah Shri\\n \\nJai Bhairavi Devi \\nSomeshwari\\n \\nNamah Shri\\n \\nJai Bhairavi Devi \\n\\n \\nNamah Shri\\n \\nJai Bhairavi Devi \\nHiranya Garbhini\\n \\nNamah Shri\\n \\nJai Bhairavi Devi \\nAmrita Varshini\\n \\nNamah Shri\\n \\nJai Bhairavi Devi \\nBhakta Rakshini\\n \\nNamah Shri\\n \\nJai Bhairavi Devi \\n\\n \\nNamah Shri\\n \\nJai Bhairavi Devi \\nSarva Janani\\n \\nNamah Shri\\n \\nJai Bhairavi Devi \\n\\n \\nNamah Shri\\n \\nJai Bhairavi Devi \\n\\n \\nNamah Shri\\n \\nJai Bhairavi Devi \\n\\n \\nNama\\nh Shri\\n \\nJai Bhairavi Devi \\n\\n \\nNamah Shri\\n \\nJai Bhairavi Devi \\n\\n \\nNamah Shri\\n \\nJai Bhairavi Devi \\n\\n \\nNamah Shri\\n \\nJai Bhairavi Devi \\nLinga Roopini\\n \\nNamah Shri\\n \\nJai Bhairavi Devi \\n\\n \\nNamah Shri\\n \\nJai Bhairavi Devi \\nTrinetrini\\n \\nNamah Shri\\n \\nJai Bhairavi Devi \\nSarva Mangali\\n \\nNamah Shri\\n \\nJai Bhairavi Devi \\n\\n \\nNamah Shri\\n \\nJai Bhairavi Devi \\n\\n \\nNamah Shri\\n \\nJai Bhairavi Devi \\nUgra Roopini\\n \\nNamah Shri\\n \\nJai Bhairavi Devi \\n\\n \\nNamah Shri\\n \\nJai Bhairavi Devi \\n\\n \\nNamah Shri\\n \\nJa\\ni Bhairavi Devi \\n\\n \\nNamah Shri\\n \\nJai Bhairavi Devi \\n\\n \\nNamah Shri\\n \\nJai Bhairavi Devi \\n\\n \\nNamah Shri\\n \\n\\n \\n\\n \\n\\n \\nNamah Shri Namah Shri Devi Namah Shri\\n \\n \\n'"
      ]
     },
     "execution_count": 23,
     "metadata": {},
     "output_type": "execute_result"
    }
   ],
   "source": [
    "page1.extractText()"
   ]
  },
  {
   "cell_type": "markdown",
   "id": "stretch-cruise",
   "metadata": {},
   "source": [
    "Append, Write or Merge PDFs"
   ]
  },
  {
   "cell_type": "code",
   "execution_count": 24,
   "id": "qualified-antigua",
   "metadata": {},
   "outputs": [],
   "source": [
    "pdf_writer = pdf.PdfFileWriter()"
   ]
  },
  {
   "cell_type": "code",
   "execution_count": 25,
   "id": "forty-academy",
   "metadata": {},
   "outputs": [],
   "source": [
    "pdf_writer.addPage(page1)"
   ]
  },
  {
   "cell_type": "code",
   "execution_count": 26,
   "id": "returning-montreal",
   "metadata": {},
   "outputs": [],
   "source": [
    "output = open('pages.pdf','wb')\n",
    "pdf_writer.write(output)\n",
    "output.close()"
   ]
  },
  {
   "cell_type": "code",
   "execution_count": null,
   "id": "numerical-halloween",
   "metadata": {},
   "outputs": [],
   "source": []
  }
 ],
 "metadata": {
  "kernelspec": {
   "display_name": "Python 3",
   "language": "python",
   "name": "python3"
  },
  "language_info": {
   "codemirror_mode": {
    "name": "ipython",
    "version": 3
   },
   "file_extension": ".py",
   "mimetype": "text/x-python",
   "name": "python",
   "nbconvert_exporter": "python",
   "pygments_lexer": "ipython3",
   "version": "3.8.8"
  }
 },
 "nbformat": 4,
 "nbformat_minor": 5
}
