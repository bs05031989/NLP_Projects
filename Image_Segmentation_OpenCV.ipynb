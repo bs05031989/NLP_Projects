{
 "cells": [
  {
   "cell_type": "code",
   "execution_count": null,
   "id": "frank-empty",
   "metadata": {},
   "outputs": [],
   "source": [
    "import cv2\n",
    "import numpy as np\n",
    "\n",
    "image = cv2.imread(r'C:\\Users\\Jai Dev Dwawdi\\Desktop\\12.jpg')\n",
    "cv2.imshow('input image',image)\n",
    "\n",
    "gray = cv2.cvtColor(image,cv2.COLOR_BGR2GRAY)\n",
    "\n",
    "edged = cv2.Canny(gray,30,200)\n",
    "cv2.imshow('canny edges',edged)\n",
    "\n",
    "contours, hierarchy = cv2.findContours(edged.copy(),cv2.RETR_LIST,cv2.CHAIN_APPROX_NONE)\n",
    "cv2.imshow('canny edges after contouring',edged)\n",
    "\n",
    "print(\" numbers of contours\" + str(len(contours)))\n",
    "\n",
    "cv2.drawContours(image, contours, -1, (0,255,0),3)\n",
    "\n",
    "cv2.imshow('contours',image)\n",
    "cv2.waitKey(0)\n",
    "cv2.destroyAllWindows()"
   ]
  },
  {
   "cell_type": "code",
   "execution_count": null,
   "id": "multiple-posting",
   "metadata": {},
   "outputs": [],
   "source": [
    "print(contours)"
   ]
  },
  {
   "cell_type": "markdown",
   "id": "adequate-steal",
   "metadata": {},
   "source": [
    "Contour Sorting"
   ]
  },
  {
   "cell_type": "code",
   "execution_count": null,
   "id": "lucky-deviation",
   "metadata": {},
   "outputs": [],
   "source": [
    "import cv2\n",
    "import numpy as np\n",
    "\n",
    "\n",
    "def get_contour_areas(contours):\n",
    "    all_areas = []\n",
    "    for item in contours:\n",
    "        area = cv2.contourArea(item)\n",
    "        all_areas.append(area)\n",
    "    return all_areas\n",
    "\n",
    "image = cv2.imread(r'C:\\Users\\Jai Dev Dwawdi\\Desktop\\12.jpg')\n",
    "original_image = image\n",
    "x = get_contour_areas(contours)\n",
    "print (x)\n",
    "\n",
    "sorted_contours = sorted(contours, key = cv2.contourArea, reverse = True)\n",
    "y = get_contour_areas(sorted_contours)\n",
    "print (y)\n",
    "\n",
    "for item in sorted_contours:\n",
    "    cv2.drawContours(original_image,[item],-1,(255,0,0),3)\n",
    "    cv2.waitKey(0)\n",
    "    cv2.imshow('contours by area', original_image)\n",
    "    \n",
    "cv2.waitKey(0)\n",
    "cv2.destroyAllWindows()"
   ]
  },
  {
   "cell_type": "markdown",
   "id": "wicked-funeral",
   "metadata": {},
   "source": [
    "centroid method"
   ]
  },
  {
   "cell_type": "code",
   "execution_count": null,
   "id": "annual-strength",
   "metadata": {},
   "outputs": [],
   "source": [
    "import cv2\n",
    "import numpy as np\n",
    "\n",
    "def x_cord_contour(contours):\n",
    "    if cv2.contourArea(contours) > 10:\n",
    "        M = cv2.moments(contours)\n",
    "        return (int(M['m10']/M['m00']))\n",
    "    \n",
    "def label_contour_center(image,c):\n",
    "    M = cv2.moments(c)\n",
    "    cx = int(M['m10']/M['m00'])\n",
    "    cy = int(M['m01']/M['m00'])\n",
    "    \n",
    "    cv2.circle(image,(cx,cy),10,(0,0,255),-1)\n",
    "    return image\n",
    "\n",
    "image = cv2.imread(r'C:\\Users\\Jai Dev Dwawdi\\Desktop\\12.jpg')\n",
    "original_image = image.copy()\n",
    "\n",
    "for (i ,c) in enumerate(contours):\n",
    "    orig = label_contour_center(image, c)\n",
    "\n",
    "cv2.imshow('contour centers', image)\n",
    "cv2.waitKey(0)\n",
    "\n",
    "contours_left_to_right = sorted(contours, key = x_cord_contour, reverse= False)\n",
    "\n",
    "for (i,c) in enumerate(contours_left_to_right):\n",
    "    cv2.drawContours(original_image,[c],-1,(0,0,255),3)\n",
    "    M = cv2.moments(c)\n",
    "    cx = int(M['m10']/M['m00'])\n",
    "    cy = int(M['m01']/M['m00'])\n",
    "    cv2.putText(original_image, str(i+1), (cx,cy), cv2.FONT_HERSHEY_SIMPLEX,1,(0,255,0),2)\n",
    "    cv2.imshow('left to right contour', original_image)\n",
    "    cv2.waitKey(0)\n",
    "    (x,y,w,h) = cv2.boundingRect(c)\n",
    "    \n",
    "cv2.destroyAllWindows()\n",
    "    "
   ]
  },
  {
   "cell_type": "markdown",
   "id": "afraid-playlist",
   "metadata": {},
   "source": [
    "Approximating contours"
   ]
  },
  {
   "cell_type": "code",
   "execution_count": 2,
   "id": "divine-soldier",
   "metadata": {},
   "outputs": [],
   "source": [
    "import cv2\n",
    "import numpy as np\n",
    "\n",
    "image = cv2.imread(r'C:\\Users\\Jai Dev Dwawdi\\Desktop\\12.jpg')\n",
    "orig_image = image.copy()\n",
    "cv2.imshow('original image', orig_image)\n",
    "cv2.waitKey(0)\n",
    "\n",
    "gray = cv2.cvtColor(image, cv2.COLOR_BGR2GRAY)\n",
    "ret, thresh = cv2.threshold(gray, 127, 255, cv2.THRESH_BINARY_INV)\n",
    "\n",
    "contours, hierarchy = cv2.findContours(thresh.copy(),cv2.RETR_LIST,cv2.CHAIN_APPROX_NONE)\n",
    "\n",
    "for item in contours:\n",
    "    x,y,w,h = cv2.boundingRect(item)\n",
    "    cv2.rectangle(orig_image,(x,y),(x+w,y+h),(0,0,255),2)\n",
    "    cv2.imshow('bounding rectangles',orig_image)\n",
    "\n",
    "cv2.waitKey(0)\n",
    "\n",
    "for item in contours:\n",
    "    accuracy = 0.03* cv2.arcLength(item,True)\n",
    "    approx = cv2.approxPolyDP(item,accuracy, True)\n",
    "    cv2.drawContours(image,[approx],0,(0,255,0),2)\n",
    "    cv2.imshow('approx poly dp', image)\n",
    "    \n",
    "cv2.waitKey(0)\n",
    "cv2.destroyAllWindows()\n",
    "\n",
    "\n"
   ]
  },
  {
   "cell_type": "markdown",
   "id": "modified-bubble",
   "metadata": {},
   "source": [
    "convex hull"
   ]
  },
  {
   "cell_type": "code",
   "execution_count": 3,
   "id": "english-locator",
   "metadata": {},
   "outputs": [],
   "source": [
    "import cv2\n",
    "import numpy as np\n",
    "\n",
    "image = cv2.imread(r'C:\\Users\\Jai Dev Dwawdi\\Desktop\\12.jpg')\n",
    "orig_image = image.copy()\n",
    "cv2.imshow('original image', orig_image)\n",
    "cv2.waitKey(0)\n",
    "\n",
    "gray = cv2.cvtColor(image, cv2.COLOR_BGR2GRAY)\n",
    "ret, thresh = cv2.threshold(gray, 127, 255, cv2.THRESH_BINARY_INV)\n",
    "\n",
    "contours, hierarchy = cv2.findContours(thresh.copy(),cv2.RETR_LIST,cv2.CHAIN_APPROX_NONE)\n",
    "\n",
    "n = len(contours) - 1\n",
    "contours = sorted(contours, key = cv2.contourArea, reverse=False)[:n]\n",
    "\n",
    "for item in contours:\n",
    "    hull = cv2.convexHull(item)\n",
    "    cv2.drawContours(image,[hull],0,(0,255,0),2)\n",
    "    cv2.imshow('convex hull', image)\n",
    "    \n",
    "cv2.waitKey(0)\n",
    "cv2.destroyAllWindows()\n"
   ]
  },
  {
   "cell_type": "markdown",
   "id": "amino-traveler",
   "metadata": {},
   "source": [
    "Match\n"
   ]
  },
  {
   "cell_type": "code",
   "execution_count": 19,
   "id": "professional-somerset",
   "metadata": {},
   "outputs": [
    {
     "name": "stdout",
     "output_type": "stream",
     "text": [
      "0.0\n"
     ]
    }
   ],
   "source": [
    "import cv2\n",
    "import numpy as np\n",
    "\n",
    "temp = cv2.imread(r'C:\\Users\\Jai Dev Dwawdi\\Desktop\\12.jpg')\n",
    "template = cv2.cvtColor(temp,cv2.COLOR_BGR2GRAY)\n",
    "cv2.imshow('template',template)\n",
    "cv2.waitKey(0)\n",
    "\n",
    "target = cv2.imread(r'C:\\Users\\Jai Dev Dwawdi\\Desktop\\bs.jpg')\n",
    "target_gray = cv2.cvtColor(target,cv2.COLOR_BGR2GRAY)\n",
    "\n",
    "ret, thres1 = cv2.threshold(template,127,255,0)\n",
    "ret, thres2 = cv2.threshold(target_gray,127,255,0)\n",
    "\n",
    "contours, hierarchy = cv2.findContours(thres1,cv2.RETR_CCOMP,cv2.CHAIN_APPROX_SIMPLE)\n",
    "sorted_contours = sorted(contours, key = cv2.contourArea, reverse = True)\n",
    "\n",
    "template_contour = contours[1]\n",
    "\n",
    "contours, hierarchy = cv2.findContours(thres2,cv2.RETR_CCOMP,cv2.CHAIN_APPROX_SIMPLE)\n",
    "\n",
    "for item in contours:\n",
    "    match = cv2.matchShapes(template_contour, item, 1, 0.0)\n",
    "    print (match)\n",
    "    \n",
    "    if match < 0.15:\n",
    "        closest_contour = item\n",
    "        break\n",
    "\n",
    "if closest_contour is not None:\n",
    "    cv2.drawContours(target,[closest_contour], -1, (0,255,0), 3)\n",
    "else:\n",
    "    print(\"No closest contour found\")\n",
    "\n",
    "cv2.imshow('Output',target)\n",
    "cv2.waitKey()\n",
    "cv2.destroyAllWindows()\n",
    "    \n",
    "                    "
   ]
  },
  {
   "cell_type": "code",
   "execution_count": null,
   "id": "potential-shift",
   "metadata": {},
   "outputs": [],
   "source": []
  }
 ],
 "metadata": {
  "kernelspec": {
   "display_name": "Python 3",
   "language": "python",
   "name": "python3"
  },
  "language_info": {
   "codemirror_mode": {
    "name": "ipython",
    "version": 3
   },
   "file_extension": ".py",
   "mimetype": "text/x-python",
   "name": "python",
   "nbconvert_exporter": "python",
   "pygments_lexer": "ipython3",
   "version": "3.8.8"
  }
 },
 "nbformat": 4,
 "nbformat_minor": 5
}
